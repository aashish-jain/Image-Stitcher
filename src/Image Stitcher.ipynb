{
 "cells": [
  {
   "cell_type": "code",
   "execution_count": 4,
   "metadata": {
    "ExecuteTime": {
     "end_time": "2019-04-09T03:47:13.652006Z",
     "start_time": "2019-04-09T03:47:13.647261Z"
    }
   },
   "outputs": [],
   "source": [
    "import cv2\n",
    "import matplotlib.pyplot as plt\n",
    "import numpy as np\n",
    "from glob import glob\n",
    "from math import ceil\n",
    "from image import *\n",
    "from image_utils import *\n",
    "from stitch import *"
   ]
  },
  {
   "cell_type": "code",
   "execution_count": 5,
   "metadata": {
    "ExecuteTime": {
     "end_time": "2019-04-09T03:47:14.152360Z",
     "start_time": "2019-04-09T03:47:14.032944Z"
    }
   },
   "outputs": [
    {
     "name": "stdout",
     "output_type": "stream",
     "text": [
      "rm: cannot remove '../data/nevada/panorama.jpg': No such file or directory\r\n"
     ]
    }
   ],
   "source": [
    "rm ../data/nevada/panorama.jpg"
   ]
  },
  {
   "cell_type": "code",
   "execution_count": 6,
   "metadata": {
    "ExecuteTime": {
     "end_time": "2019-04-09T03:47:15.852747Z",
     "start_time": "2019-04-09T03:47:14.588937Z"
    }
   },
   "outputs": [
    {
     "ename": "ValueError",
     "evalue": "The truth value of an array with more than one element is ambiguous. Use a.any() or a.all()",
     "output_type": "error",
     "traceback": [
      "\u001b[0;31m---------------------------------------------------------------------------\u001b[0m",
      "\u001b[0;31mValueError\u001b[0m                                Traceback (most recent call last)",
      "\u001b[0;32m<ipython-input-6-975c0cf4c9e2>\u001b[0m in \u001b[0;36m<module>\u001b[0;34m\u001b[0m\n\u001b[0;32m----> 1\u001b[0;31m \u001b[0mimages\u001b[0m \u001b[0;34m=\u001b[0m \u001b[0mread_images\u001b[0m\u001b[0;34m(\u001b[0m\u001b[0;34m\"../data/nevada/\"\u001b[0m\u001b[0;34m)\u001b[0m\u001b[0;34m\u001b[0m\u001b[0;34m\u001b[0m\u001b[0m\n\u001b[0m",
      "\u001b[0;32m~/UB/CSE573/Projects/project2/src/image.py\u001b[0m in \u001b[0;36mread_images\u001b[0;34m(directory)\u001b[0m\n\u001b[1;32m     94\u001b[0m             \u001b[0;32mcontinue\u001b[0m\u001b[0;34m\u001b[0m\u001b[0;34m\u001b[0m\u001b[0m\n\u001b[1;32m     95\u001b[0m         \u001b[0mread_image\u001b[0m \u001b[0;34m=\u001b[0m \u001b[0mcv2\u001b[0m\u001b[0;34m.\u001b[0m\u001b[0mimread\u001b[0m\u001b[0;34m(\u001b[0m\u001b[0mfile_name\u001b[0m\u001b[0;34m)\u001b[0m\u001b[0;34m\u001b[0m\u001b[0;34m\u001b[0m\u001b[0m\n\u001b[0;32m---> 96\u001b[0;31m         \u001b[0mpresent_flag\u001b[0m \u001b[0;34m=\u001b[0m \u001b[0;32mFalse\u001b[0m\u001b[0;34m\u001b[0m\u001b[0;34m\u001b[0m\u001b[0m\n\u001b[0m\u001b[1;32m     97\u001b[0m         \u001b[0;32mfor\u001b[0m \u001b[0mimg\u001b[0m \u001b[0;32min\u001b[0m \u001b[0mimages\u001b[0m\u001b[0;34m:\u001b[0m\u001b[0;34m\u001b[0m\u001b[0;34m\u001b[0m\u001b[0m\n\u001b[1;32m     98\u001b[0m             \u001b[0;31m# Duplicate filter\u001b[0m\u001b[0;34m\u001b[0m\u001b[0;34m\u001b[0m\u001b[0;34m\u001b[0m\u001b[0m\n",
      "\u001b[0;31mValueError\u001b[0m: The truth value of an array with more than one element is ambiguous. Use a.any() or a.all()"
     ]
    }
   ],
   "source": [
    "images = read_images(\"../data/nevada/\")"
   ]
  },
  {
   "cell_type": "code",
   "execution_count": null,
   "metadata": {
    "ExecuteTime": {
     "end_time": "2019-04-09T03:43:09.752121Z",
     "start_time": "2019-04-09T03:43:08.832586Z"
    }
   },
   "outputs": [],
   "source": [
    "for img in images:\n",
    "    img.show()"
   ]
  },
  {
   "cell_type": "code",
   "execution_count": null,
   "metadata": {
    "ExecuteTime": {
     "end_time": "2019-04-09T03:43:11.694361Z",
     "start_time": "2019-04-09T03:43:11.684002Z"
    }
   },
   "outputs": [],
   "source": [
    "def warp_two_images(img1, img2, h):\n",
    "    \"\"\"Warps the given image img1 to img2 using homographt matrix h.\n",
    "\n",
    "    Arguments:\n",
    "        img1 {np.ndarray} -- Image to be warped\n",
    "        img2 {np.ndarray} -- Image to which img1 has to be warped\n",
    "        h {np.ndarray} -- Homography matrix\n",
    "\n",
    "    Returns:\n",
    "        np.ndarray -- Image resulting after warping img1 to img2\n",
    "    \"\"\"\n",
    "\n",
    "    # Find the shape\n",
    "    y1, x1 = img1.shape[:2]\n",
    "    y2, x2 = img2.shape[:2]\n",
    "\n",
    "    # Get the corners of the images\n",
    "    pts1 = np.array([[0, 0], [0, y1], [x1, y1], [x1, 0]],\n",
    "                    dtype=np.float32).reshape(-1, 1, 2)\n",
    "    pts2 = np.array([[0, 0], [0, y2], [x2, y2], [x2, 0]],\n",
    "                    dtype=np.float32).reshape(-1, 1, 2)\n",
    "\n",
    "    # Get the points after applying homography\n",
    "    pts2_ = cv2.perspectiveTransform(pts2, h)\n",
    "    pts = np.concatenate((pts1, pts2_), axis=0)\n",
    "\n",
    "    # Round off the points\n",
    "    [xmin, ymin] = np.array(pts.min(axis=0).flatten() - 0.5, dtype=np.int32)\n",
    "    [xmax, ymax] = np.array(pts.max(axis=0).flatten() + 0.5, dtype=np.int32)\n",
    "\n",
    "    # Compute the translation homography matrix\n",
    "    warped_img = [-xmin, -ymin]\n",
    "    h_dash = np.array(\n",
    "        [[1, 0, warped_img[0]], [0, 1, warped_img[1]], [0, 0, 1]])  # translate\n",
    "\n",
    "    # Use the translation homography matrix to fit bot img1 and img2 on mossiac\n",
    "    res1 = cv2.warpPerspective(img2, h_dash.dot(h), (xmax-xmin, ymax-ymin))\n",
    "    res2 = np.zeros_like(res1)\n",
    "    res2[warped_img[1]:y1+warped_img[1],warped_img[0]:x1+warped_img[0]] = img1\n",
    "    \n",
    "    return res1, res2\n"
   ]
  },
  {
   "cell_type": "code",
   "execution_count": null,
   "metadata": {
    "ExecuteTime": {
     "end_time": "2019-04-09T03:43:19.711911Z",
     "start_time": "2019-04-09T03:43:19.333744Z"
    }
   },
   "outputs": [],
   "source": [
    "matches = knn_matcher(images[0].descriptors, images[1].descriptors)\n",
    "\n",
    "# Compute the homography using ransac\n",
    "h = ransac(matches, images[0].keypoints, images[1].keypoints,\n",
    "           sample_points=10, iterations=10000, check=False)\n",
    "\n",
    "res1, res2 = warp_two_images(images[1].img, images[0].img, h)"
   ]
  },
  {
   "cell_type": "code",
   "execution_count": null,
   "metadata": {
    "ExecuteTime": {
     "end_time": "2019-04-09T03:43:41.529049Z",
     "start_time": "2019-04-09T03:43:41.518700Z"
    }
   },
   "outputs": [],
   "source": [
    "def blender(res1, res2, show_unblended = True):\n",
    "    overlapping = np.logical_and(res1 >0 , res2>0)\n",
    "\n",
    "    temp = res1.copy()\n",
    "    temp[~overlapping] = 0\n",
    "    non_zeros = np.where(temp > 0)[1]\n",
    "    y_min, y_max = non_zeros.min(), non_zeros.max()\n",
    "\n",
    "    res1 = np.divide(res1, 255, dtype=np.float)\n",
    "    res2 = np.divide(res2, 255, dtype=np.float)\n",
    "    \n",
    "    mask1_row = np.ones_like(res1[0], dtype=np.float32)\n",
    "    mask1_row[y_min:y_max] = np.repeat(np.linspace(1, 0, num = y_max - y_min), 3).reshape(-1,3)\n",
    "    mask1 = np.array([mask1_row for i in range(res1.shape[0])])\n",
    "\n",
    "\n",
    "    mask2_row = np.ones_like(res1[0], dtype=np.float32)\n",
    "    mask2_row[y_min:y_max] = np.repeat(np.linspace(0, 1, num = y_max - y_min), 3).reshape(-1,3)\n",
    "    mask2 = np.array([mask2_row for i in range(res1.shape[0])])\n",
    "\n",
    "    if show_unblended:\n",
    "        temp_img = res1 + res2\n",
    "        temp_img[overlapping] = res1[overlapping]\n",
    "        show_image(temp_img)\n",
    "    return np.multiply(res1, mask2) + np.multiply(res2, mask1)"
   ]
  },
  {
   "cell_type": "code",
   "execution_count": null,
   "metadata": {
    "ExecuteTime": {
     "end_time": "2019-04-09T03:43:42.900647Z",
     "start_time": "2019-04-09T03:43:42.060570Z"
    }
   },
   "outputs": [],
   "source": [
    "blended = blender(res1, res2)\n",
    "show_image(blended)"
   ]
  },
  {
   "cell_type": "code",
   "execution_count": null,
   "metadata": {
    "ExecuteTime": {
     "end_time": "2019-04-09T03:38:09.047390Z",
     "start_time": "2019-04-09T03:38:09.036982Z"
    }
   },
   "outputs": [],
   "source": [
    "blended[blended >= 1] = 1\n",
    "blended = np.int32(blended * 255)"
   ]
  },
  {
   "cell_type": "code",
   "execution_count": null,
   "metadata": {
    "ExecuteTime": {
     "end_time": "2019-04-09T03:38:09.460976Z",
     "start_time": "2019-04-09T03:38:09.452077Z"
    }
   },
   "outputs": [],
   "source": [
    "cv2.cvtColor(blended, cv2.COLOR_BGR2GRAY)"
   ]
  },
  {
   "cell_type": "code",
   "execution_count": null,
   "metadata": {
    "ExecuteTime": {
     "end_time": "2019-04-09T03:38:10.167026Z",
     "start_time": "2019-04-09T03:38:10.151454Z"
    }
   },
   "outputs": [],
   "source": [
    "Image(blended)"
   ]
  },
  {
   "cell_type": "code",
   "execution_count": null,
   "metadata": {
    "ExecuteTime": {
     "end_time": "2019-04-09T03:36:08.040156Z",
     "start_time": "2019-04-09T03:36:08.022512Z"
    }
   },
   "outputs": [],
   "source": [
    "blended_img = Image(blended)\n",
    "matches = knn_matcher(blended_img.descriptors, images[2].descriptors)\n",
    "\n",
    "# Compute the homography using ransac\n",
    "h = ransac(matches, blended_img.keypoints, images[2].keypoints,\n",
    "           sample_points=10, iterations=10000, check=False)\n",
    "\n",
    "res1, res2 = warp_two_images(images[2].img, blended_img.mg, h)"
   ]
  },
  {
   "cell_type": "code",
   "execution_count": null,
   "metadata": {
    "ExecuteTime": {
     "end_time": "2019-04-09T03:04:52.017061Z",
     "start_time": "2019-04-09T03:04:41.134087Z"
    }
   },
   "outputs": [],
   "source": [
    "# show_image(res2)\n",
    "# show_image(mask1)\n",
    "# show_image(res1)\n",
    "# show_image(mask2)\n",
    "# show_image(np.multiply(res1,mask2))\n",
    "# show_image(np.multiply(res2,mask1))\n",
    "# show_image(np.multiply(res1, mask2) + np.multiply(res2, mask1))"
   ]
  },
  {
   "cell_type": "code",
   "execution_count": null,
   "metadata": {},
   "outputs": [],
   "source": []
  }
 ],
 "metadata": {
  "kernelspec": {
   "display_name": "Python 3",
   "language": "python",
   "name": "python3"
  },
  "language_info": {
   "codemirror_mode": {
    "name": "ipython",
    "version": 3
   },
   "file_extension": ".py",
   "mimetype": "text/x-python",
   "name": "python",
   "nbconvert_exporter": "python",
   "pygments_lexer": "ipython3",
   "version": "3.6.8"
  },
  "latex_envs": {
   "LaTeX_envs_menu_present": true,
   "autoclose": false,
   "autocomplete": true,
   "bibliofile": "biblio.bib",
   "cite_by": "apalike",
   "current_citInitial": 1,
   "eqLabelWithNumbers": true,
   "eqNumInitial": 1,
   "hotkeys": {
    "equation": "Ctrl-E",
    "itemize": "Ctrl-I"
   },
   "labels_anchors": false,
   "latex_user_defs": false,
   "report_style_numbering": false,
   "user_envs_cfg": false
  }
 },
 "nbformat": 4,
 "nbformat_minor": 2
}
